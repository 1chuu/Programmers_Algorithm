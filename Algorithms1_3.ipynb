{
 "cells": [
  {
   "cell_type": "markdown",
   "metadata": {},
   "source": [
    "## Q3. level_1 - 딕셔너리 정렬 (3/7)"
   ]
  },
  {
   "cell_type": "code",
   "execution_count": 34,
   "metadata": {},
   "outputs": [
    {
     "name": "stdout",
     "output_type": "stream",
     "text": [
      "[('김철수', 78), ('이하나', 97), ('정진원', 88)]\n"
     ]
    }
   ],
   "source": [
    "def sort_dictionary(dic):\n",
    "    \n",
    "    return sorted(list(dic.items()))\n",
    "\n",
    "# 아래는 테스트로 출력해 보기 위한 코드입니다.\n",
    "print( sort_dictionary( {\"정진원\":88, \"이하나\":97, \"김철수\":78,} ))"
   ]
  },
  {
   "cell_type": "markdown",
   "metadata": {},
   "source": [
    "#### 이런것도 있구나 하는 코드"
   ]
  },
  {
   "cell_type": "code",
   "execution_count": 35,
   "metadata": {},
   "outputs": [
    {
     "name": "stdout",
     "output_type": "stream",
     "text": [
      "[('김철수', 78), ('이하나', 97), ('정진원', 88)]\n"
     ]
    }
   ],
   "source": [
    "def sort_dictionary(dic):\n",
    "    return sorted(dic.items(), key=lambda x: x[0])\n",
    "\n",
    "# 아래는 테스트로 출력해 보기 위한 코드입니다.\n",
    "print( sort_dictionary( {\"정진원\":88, \"이하나\":97, \"김철수\":78,} ))"
   ]
  },
  {
   "cell_type": "markdown",
   "metadata": {},
   "source": [
    "#### 알게된것\n",
    "- sorted( iterable, key= lambda element : element[i] ) 라는 lambda를 통해 복한잡 객체의 어떠한 index를 기준으로 정렬이 가능.. 너무 간편!!"
   ]
  }
 ],
 "metadata": {
  "kernelspec": {
   "display_name": "Python 3",
   "language": "python",
   "name": "python3"
  },
  "language_info": {
   "codemirror_mode": {
    "name": "ipython",
    "version": 3
   },
   "file_extension": ".py",
   "mimetype": "text/x-python",
   "name": "python",
   "nbconvert_exporter": "python",
   "pygments_lexer": "ipython3",
   "version": "3.6.4"
  }
 },
 "nbformat": 4,
 "nbformat_minor": 2
}
