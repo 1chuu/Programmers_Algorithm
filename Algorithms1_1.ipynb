{
 "cells": [
  {
   "cell_type": "markdown",
   "metadata": {},
   "source": [
    "# Mission: level_1"
   ]
  },
  {
   "cell_type": "markdown",
   "metadata": {},
   "source": [
    "## Q1. level_1 - 제일 작은 수 제거하기 (1/7)"
   ]
  },
  {
   "cell_type": "code",
   "execution_count": 29,
   "metadata": {},
   "outputs": [
    {
     "name": "stdout",
     "output_type": "stream",
     "text": [
      "결과 [13, 18, 7, 22, 10, 67] \n"
     ]
    }
   ],
   "source": [
    "def rm_small(mylist):\n",
    "    if len(mylist)>1 :\n",
    "        mylist.remove(min(mylist))\n",
    "        return mylist\n",
    "    else:\n",
    "        return []\n",
    "\n",
    "    \n",
    "# 아래는 테스트로 출력해 보기 위한 코드입니다.\n",
    "my_list = [13,4,18,7,22,10,67]\n",
    "print(\"결과 {} \".format(rm_small(my_list)))\n"
   ]
  },
  {
   "cell_type": "markdown",
   "metadata": {},
   "source": [
    "#### 알게된것\n",
    "- 파이썬에서는 string의 길이를 반환할때 string.length()가 아니라 len(string)을 사용함"
   ]
  },
  {
   "cell_type": "markdown",
   "metadata": {},
   "source": [
    "#### 더 나은 코드"
   ]
  },
  {
   "cell_type": "code",
   "execution_count": 30,
   "metadata": {},
   "outputs": [
    {
     "name": "stdout",
     "output_type": "stream",
     "text": [
      "결과 [4, 3, 2] \n"
     ]
    }
   ],
   "source": [
    "def rm_small(mylist):\n",
    "    return [i for i in mylist if i > min(mylist)]\n",
    "\n",
    "\n",
    "# 아래는 테스트로 출력해 보기 위한 코드입니다.\n",
    "my_list = [4,3,2,1,1,1,1,1]\n",
    "print(\"결과 {} \".format(rm_small(my_list)))"
   ]
  },
  {
   "cell_type": "markdown",
   "metadata": {},
   "source": [
    "#### 알게된것\n",
    "- return 안에 for 문을 돌려서 i 값을 얻을 수 있구나"
   ]
  },
  {
   "cell_type": "code",
   "execution_count": null,
   "metadata": {},
   "outputs": [],
   "source": []
  }
 ],
 "metadata": {
  "kernelspec": {
   "display_name": "Python 3",
   "language": "python",
   "name": "python3"
  },
  "language_info": {
   "codemirror_mode": {
    "name": "ipython",
    "version": 3
   },
   "file_extension": ".py",
   "mimetype": "text/x-python",
   "name": "python",
   "nbconvert_exporter": "python",
   "pygments_lexer": "ipython3",
   "version": "3.6.4"
  }
 },
 "nbformat": 4,
 "nbformat_minor": 2
} 
