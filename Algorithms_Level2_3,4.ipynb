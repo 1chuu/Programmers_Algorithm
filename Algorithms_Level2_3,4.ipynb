{
 "cells": [
  {
   "cell_type": "markdown",
   "metadata": {},
   "source": [
    "## Q10. level_2 - 이상한 문자만들기 (3/4)"
   ]
  },
  {
   "cell_type": "code",
   "execution_count": 47,
   "metadata": {},
   "outputs": [
    {
     "name": "stdout",
     "output_type": "stream",
     "text": [
      "결과 : TrY HeLlO WoRlD\n"
     ]
    }
   ],
   "source": [
    "def toWeirdCase(s):\n",
    "    \n",
    "    lis = s.split(\" \")\n",
    "    result=[]\n",
    "    \n",
    "    for i in range(len(lis)):\n",
    "        tmp=[]\n",
    "        for key, value in enumerate(lis[i]):\n",
    "            if key%2==0:\n",
    "                tmp.append(value.upper())\n",
    "            else:\n",
    "                tmp.append(value.lower())\n",
    "        result.append(\"\".join(tmp))\n",
    "            \n",
    "    return \" \".join(result)\n",
    "\n",
    "# 아래는 테스트로 출력해 보기 위한 코드입니다.\n",
    "print(\"결과 : {}\".format(toWeirdCase(\"try hello world\")));"
   ]
  },
  {
   "cell_type": "markdown",
   "metadata": {},
   "source": [
    "#### 더 나은 코드"
   ]
  },
  {
   "cell_type": "code",
   "execution_count": 48,
   "metadata": {},
   "outputs": [],
   "source": [
    "def toWeirdCase(s):\n",
    "    return \" \".join(map(lambda x: \"\".join([a.lower() if i % 2 else a.upper() for i, a in enumerate(x)]), s.split(\" \")))"
   ]
  },
  {
   "cell_type": "markdown",
   "metadata": {},
   "source": [
    "#### 느낀점"
   ]
  },
  {
   "cell_type": "markdown",
   "metadata": {},
   "source": [
    "- 위 코드는 여태까지 알고리즘 문제를 풀면서 알게되고 배운 내용의 총집합 같다. 여러번 꼽씹어서 반드시 체화시켜야겠다.\n",
    "- 또 다시 lambda 함수의 효율적인 사용에 감탄.. 이쯤되니 lambda를 까먹는게 아니라 어떤 상황에서 써먹을 수 있는지를 모르는거 같다. 아직 익숙하지않아 lambda 함수 사용에 대한 예제를 좀 풀어봐야겠다."
   ]
  },
  {
   "cell_type": "markdown",
   "metadata": {},
   "source": [
    "## Q11. level_2 - (4/4)"
   ]
  },
  {
   "cell_type": "code",
   "execution_count": 49,
   "metadata": {},
   "outputs": [
    {
     "name": "stdout",
     "output_type": "stream",
     "text": [
      "12\n"
     ]
    }
   ],
   "source": [
    "def adder(a, b):\n",
    "    \n",
    "    if a>b: a,b=b,a\n",
    "    \n",
    "    return sum(range(a,b+1))\n",
    "\n",
    "# 아래는 테스트로 출력해 보기 위한 코드입니다.\n",
    "print(adder(3, 5))"
   ]
  }
 ],
 "metadata": {
  "kernelspec": {
   "display_name": "Python 3",
   "language": "python",
   "name": "python3"
  },
  "language_info": {
   "codemirror_mode": {
    "name": "ipython",
    "version": 3
   },
   "file_extension": ".py",
   "mimetype": "text/x-python",
   "name": "python",
   "nbconvert_exporter": "python",
   "pygments_lexer": "ipython3",
   "version": "3.6.4"
  }
 },
 "nbformat": 4,
 "nbformat_minor": 2
}
