{
 "cells": [
  {
   "cell_type": "markdown",
   "metadata": {},
   "source": [
    "# Misson: level_4"
   ]
  },
  {
   "cell_type": "markdown",
   "metadata": {},
   "source": [
    "## Q17. level_4 - 숫자의 표현 (1/3)"
   ]
  },
  {
   "cell_type": "code",
   "execution_count": 1,
   "metadata": {},
   "outputs": [
    {
     "name": "stdout",
     "output_type": "stream",
     "text": [
      "4\n"
     ]
    }
   ],
   "source": [
    "def expressions(num):\n",
    "    \n",
    "    answer = 0\n",
    "    \n",
    "    for i in range(1,num+1):\n",
    "        result = 0\n",
    "        while result<num:\n",
    "            result+=i\n",
    "            i+=1\n",
    "        if result==num:\n",
    "            answer+=1\n",
    "    \n",
    "    return answer\n",
    "\n",
    "# 아래는 테스트로 출력해 보기 위한 코드입니다.\n",
    "print(expressions(15));"
   ]
  },
  {
   "cell_type": "markdown",
   "metadata": {},
   "source": [
    "## Q18. level_4 - 땅따먹기 게임 (2/3)"
   ]
  },
  {
   "cell_type": "code",
   "execution_count": 2,
   "metadata": {},
   "outputs": [
    {
     "name": "stdout",
     "output_type": "stream",
     "text": [
      "16\n"
     ]
    }
   ],
   "source": [
    "def hopscotch(board, size):\n",
    "    \n",
    "    for i in range(1,size):\n",
    "        board[i][0] += max(board[i-1][1],board[i-1][2],board[i-1][3])\n",
    "        board[i][1] += max(board[i-1][0],board[i-1][2],board[i-1][3])\n",
    "        board[i][2] += max(board[i-1][0],board[i-1][1],board[i-1][3])\n",
    "        board[i][3] += max(board[i-1][0],board[i-1][1],board[i-1][2])\n",
    "    \n",
    "    return max(board[size-1])\n",
    "\n",
    "\n",
    "#아래는 테스트로 출력해 보기 위한 코드입니다.\n",
    "board =  [[ 1, 2, 3, 5 ], [ 5, 6, 7, 8 ], [4, 3, 2, 1]]\n",
    "print(hopscotch(board, 3))"
   ]
  },
  {
   "cell_type": "markdown",
   "metadata": {},
   "source": [
    "### 배울게 있는 코드"
   ]
  },
  {
   "cell_type": "code",
   "execution_count": 3,
   "metadata": {},
   "outputs": [
    {
     "name": "stdout",
     "output_type": "stream",
     "text": [
      "16\n"
     ]
    }
   ],
   "source": [
    "def hopscotch(board, size):\n",
    "\n",
    "    for i in range(size):\n",
    "        if i == size -1:\n",
    "            return max(board[i])\n",
    "        for j in range(4):\n",
    "            board[i + 1][j] += max(board[i][:j] + board[i][j+1:])\n",
    "\n",
    "#아래는 테스트로 출력해 보기 위한 코드입니다.\n",
    "board =  [[ 1, 2, 3, 5 ], [5, 6, 7, 8 ], [4, 3, 2, 1]]\n",
    "print(hopscotch(board, 3))"
   ]
  },
  {
   "cell_type": "markdown",
   "metadata": {},
   "source": [
    "#### 알게된점"
   ]
  },
  {
   "cell_type": "markdown",
   "metadata": {},
   "source": [
    "- max() 함수안에 리스트를 + 해서 해당하지 않는 열을 제외하는 테크닉이 놀라웠다.\n",
    "- 그 덕분에 내가 작성한 코드에 비해 훨씬 간결한 코드로 작성이 되었다."
   ]
  }
 ],
 "metadata": {
  "kernelspec": {
   "display_name": "Python 3",
   "language": "python",
   "name": "python3"
  },
  "language_info": {
   "codemirror_mode": {
    "name": "ipython",
    "version": 3
   },
   "file_extension": ".py",
   "mimetype": "text/x-python",
   "name": "python",
   "nbconvert_exporter": "python",
   "pygments_lexer": "ipython3",
   "version": "3.6.4"
  }
 },
 "nbformat": 4,
 "nbformat_minor": 2
}
